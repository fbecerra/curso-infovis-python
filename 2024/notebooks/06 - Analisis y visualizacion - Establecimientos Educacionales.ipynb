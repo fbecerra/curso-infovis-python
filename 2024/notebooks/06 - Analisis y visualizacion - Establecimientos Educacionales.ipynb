{
 "cells": [
  {
   "cell_type": "markdown",
   "metadata": {},
   "source": [
    "# Clase 06 - Analisis y visualizacion: Establecimientos Educacionales"
   ]
  },
  {
   "cell_type": "markdown",
   "metadata": {},
   "source": [
    "Profesor: **Fernando Becerra**, f.becerra@udd.cl, [www.fernandobecerra.com](www.fernandobecerra.com)"
   ]
  },
  {
   "cell_type": "markdown",
   "metadata": {},
   "source": [
    "En esta clase analizaremos un caso de estudio de comienzo a fin, en el cual la idea es explorar los dats a través de la visualización de información para poder delinear una narrativa. En particular, analizaremos datos de los establedicmientos educacionales de la Región Metropolitana, aunque la aplicación del análisis no tiene porqué esta acotado a esa área.\n",
    "\n",
    "Este ejercicio fue inspirado por una visualización que vi en [Twitter](https://twitter.com/jcovarrubia/status/1539440850257727489). Recuerden que siempre es bueno seguir gente que trabaje en datos y estar atento a lo que ell@s están haciendo. En nuestro caso no haremos exactamente el mismo proceso, sino que lo complementaremos con otras bases de datos para hacer un análisis más completo."
   ]
  },
  {
   "cell_type": "markdown",
   "metadata": {},
   "source": [
    "Lo primero es lo primero: importar lo típico"
   ]
  },
  {
   "cell_type": "code",
   "execution_count": null,
   "metadata": {},
   "outputs": [],
   "source": [
    "import pandas as pd\n",
    "import matplotlib as mpl\n",
    "import matplotlib.pyplot as plt\n",
    "import seaborn as sns\n",
    "import numpy as np"
   ]
  },
  {
   "cell_type": "markdown",
   "metadata": {},
   "source": [
    "Como dice el tuit, los datos son sacados del [portal de datos abiertos del Ministerio de Educación](https://datosabiertos.mineduc.cl).  Si nos vamos a \"Estudiantes y Párvulos\" y después [\"Matrícula por estudiante\"](https://datosabiertos.mineduc.cl/matricula-por-estudiante-2/), podemos acceder al archivo en formato `zip`. Este archivo incluye documentos de texto que nos ayudan con los nombres de las columnas y los valores que cada una puede tomar.\n",
    "\n",
    "A nosotr@s nos interesa cargar el archivos `csv` que viene dentro y empezar a ver qué información tiene."
   ]
  },
  {
   "cell_type": "code",
   "execution_count": null,
   "metadata": {},
   "outputs": [],
   "source": [
    "!ls ../../datos/educacion/Matricula-por-estudiante-2021/20210913_Matrícula_unica_2021_20210430_WEB.CSV"
   ]
  },
  {
   "cell_type": "code",
   "execution_count": null,
   "metadata": {
    "scrolled": true
   },
   "outputs": [],
   "source": [
    "df = pd.read_csv('../../datos/educacion/Matricula-por-estudiante-2021/20210913_Matrícula_unica_2021_20210430_WEB.CSV',\n",
    "                 sep=';',\n",
    "                 low_memory=False)\n",
    "df.head()\n"
   ]
  },
  {
   "cell_type": "markdown",
   "metadata": {},
   "source": [
    "Lo primero que haremos para hacer el análisis un poco más fácil, es restringir el análisis a la Región Metropolitana. Para eso, eligiremos sólo los establecimientos y alumn@s que se ubican en dicha región, y filtraremos los datos en base a eso."
   ]
  },
  {
   "cell_type": "code",
   "execution_count": null,
   "metadata": {},
   "outputs": [],
   "source": [
    "df_rm = df[(df['COD_REG_RBD'] == 13) & (df['COD_REG_ALU'] == 13)].reset_index()\n",
    "df_rm.head()\n",
    "# df_rm = df[(df['COD_PRO_RBD'] == 131) & (df['COD_COM_ALU'].isin(comunas_santiago))].reset_index()"
   ]
  },
  {
   "cell_type": "markdown",
   "metadata": {},
   "source": [
    "Para empezar a familiarizarnos con los datos y con ayuda de los documentos adjuntos, empezamos a ver de qué se trata cada columna y como vamos a trabajar con ellas. Por ejemplo, sería bueno saber el número total de establecimientos luego de haberlos filtrados."
   ]
  },
  {
   "cell_type": "code",
   "execution_count": null,
   "metadata": {},
   "outputs": [],
   "source": [
    "len(pd.unique(df_rm['RBD']))"
   ]
  },
  {
   "cell_type": "markdown",
   "metadata": {},
   "source": [
    "## Parte 1: Movimiento general de la matrícula en la Región Metropolitana"
   ]
  },
  {
   "cell_type": "markdown",
   "metadata": {},
   "source": [
    "Para comenzar el análisis, nos inspiraremos en un ejemplo visto en las clases anteriores: la encuesta origen-destino. Veremos la movilidad de cada estudiante en base a la comuna donde vive y la comuna donde estudia. Para eso reutilizaremos código de ese ejemplo para calcularel flujo desde una comuna a otra,"
   ]
  },
  {
   "cell_type": "code",
   "execution_count": null,
   "metadata": {},
   "outputs": [],
   "source": [
    "from sklearn.preprocessing import normalize\n",
    "\n",
    "def normalize_rows(df):\n",
    "    df = pd.DataFrame(normalize(df, norm='l1'), index=df.index, columns=df.columns)\n",
    "    return df\n",
    "\n",
    "def normalize_columns(df):\n",
    "    df = pd.DataFrame(normalize(df, norm='l1', axis=0), index=df.index, columns=df.columns)\n",
    "    return df"
   ]
  },
  {
   "cell_type": "code",
   "execution_count": null,
   "metadata": {
    "scrolled": true
   },
   "outputs": [],
   "source": [
    "flujos = (\n",
    "    df_rm.groupby(['NOM_COM_RBD', 'NOM_COM_ALU'])\n",
    "          .agg(n_matriculas=('NOM_COM_ALU', 'count'))\n",
    "          ['n_matriculas'].unstack(fill_value=0)\n",
    "          .pipe(normalize_rows)\n",
    ")\n",
    "flujos.head()"
   ]
  },
  {
   "cell_type": "markdown",
   "metadata": {},
   "source": [
    "Una de mis visualizaciones favoritas es el heat map, por lo que ocuparemos ese gráfico para visualizar esta red."
   ]
  },
  {
   "cell_type": "code",
   "execution_count": null,
   "metadata": {},
   "outputs": [],
   "source": [
    "plt.figure(figsize=(14, 14))\n",
    "sns.heatmap(flujos, cmap='magma_r', square=True, linewidths=1, \n",
    "            cbar_kws={'shrink': 0.8, 'label': 'Fracción de matrículas'})\n",
    "plt.xlabel('Comuna Establecimiento')\n",
    "plt.ylabel('Comuna Estudiantes')\n",
    "plt.show()"
   ]
  },
  {
   "cell_type": "markdown",
   "metadata": {},
   "source": [
    "## Parte 2: Origen de la matrícula de cada establecimiento"
   ]
  },
  {
   "cell_type": "markdown",
   "metadata": {},
   "source": [
    "La visualización anterior nos da una idea general de como se mueven los estudiantes desde una comuna a otra, pero ahora queremos ir más al detalle. Comenzar con una vista general para luego ir a lo específico es una buena forma de hacer la información más digerible.\n",
    "\n",
    "En este paso calcularemos la cantidad de matrículas de cada colegio por comuna de origen. "
   ]
  },
  {
   "cell_type": "code",
   "execution_count": null,
   "metadata": {},
   "outputs": [],
   "source": [
    "establecimientos = (\n",
    "    df_rm.groupby(['RBD','NOM_RBD', 'COD_COM_ALU'])\n",
    "        .agg(n_matriculas=('COD_COM_ALU', 'count'))\n",
    ")\n",
    "\n",
    "establecimientos.head()"
   ]
  },
  {
   "cell_type": "markdown",
   "metadata": {},
   "source": [
    "Para hacerlo comparables entre distintos establecimientos educacionales, lo transformaremos a porcentaje de matrícula."
   ]
  },
  {
   "cell_type": "code",
   "execution_count": null,
   "metadata": {},
   "outputs": [],
   "source": [
    "establecimientos['n_percent'] = establecimientos['n_matriculas'] / establecimientos.groupby('NOM_RBD')['n_matriculas'].transform('sum')\n",
    "establecimientos.head(3)"
   ]
  },
  {
   "cell_type": "code",
   "execution_count": null,
   "metadata": {},
   "outputs": [],
   "source": [
    "establecimientos = establecimientos.reset_index()"
   ]
  },
  {
   "cell_type": "markdown",
   "metadata": {},
   "source": [
    "¡Ahora es momento de empezar a mapear! Para eso importamos `geopandas`"
   ]
  },
  {
   "cell_type": "code",
   "execution_count": null,
   "metadata": {},
   "outputs": [],
   "source": [
    "import geopandas as gpd"
   ]
  },
  {
   "cell_type": "markdown",
   "metadata": {},
   "source": [
    "Y cargamos los arhivos `shp` sacados desde la [Biblioteca del Congreso Nacional](https://www.bcn.cl/siit/mapas_vectoriales/index_html)."
   ]
  },
  {
   "cell_type": "code",
   "execution_count": null,
   "metadata": {},
   "outputs": [],
   "source": [
    "comunas = gpd.read_file('../../../datos/bcn/Comunas/comunas.shp')\n",
    "comunas.head()"
   ]
  },
  {
   "cell_type": "markdown",
   "metadata": {},
   "source": [
    "Exploramos las regiones disponible para poder filtrarlas"
   ]
  },
  {
   "cell_type": "code",
   "execution_count": null,
   "metadata": {},
   "outputs": [],
   "source": [
    "pd.unique(comunas['Region'])"
   ]
  },
  {
   "cell_type": "markdown",
   "metadata": {},
   "source": [
    "Y ahora filtramos los datos"
   ]
  },
  {
   "cell_type": "code",
   "execution_count": null,
   "metadata": {},
   "outputs": [],
   "source": [
    "comunas_rm = comunas[comunas['Region'] == 'Región Metropolitana de Santiago'].reset_index()\n",
    "comunas_rm.head()"
   ]
  },
  {
   "cell_type": "markdown",
   "metadata": {},
   "source": [
    "Para ver que todo esté en orden, lo vamos a graficar primero."
   ]
  },
  {
   "cell_type": "code",
   "execution_count": null,
   "metadata": {},
   "outputs": [],
   "source": [
    "fig, ax = plt.subplots(1,1, figsize=(12,8))\n",
    "\n",
    "comunas_rm.plot(ax=ax)\n",
    "\n",
    "plt.show()"
   ]
  },
  {
   "cell_type": "markdown",
   "metadata": {},
   "source": [
    "Ahora definiremos una función que reciba el nombre de un establecimiento y grafique el porcentaje de estudiantes matriculados por comuna."
   ]
  },
  {
   "cell_type": "code",
   "execution_count": null,
   "metadata": {},
   "outputs": [],
   "source": [
    "def plot_establecimiento(establecimiento, ax):\n",
    "\n",
    "    filtered_df = establecimientos[establecimientos['NOM_RBD'] == establecimiento]\n",
    "    establecimiento_df = (\n",
    "        pd.merge(comunas_rm,\n",
    "            filtered_df.set_index('COD_COM_ALU'),\n",
    "            left_on='cod_comuna',\n",
    "            right_index=True,\n",
    "            how='left')\n",
    "        .fillna(0)\n",
    "    )\n",
    "\n",
    "    establecimiento_df.plot(ax=ax,\n",
    "                            column='n_percent', \n",
    "                            cmap='BuPu',\n",
    "                            linewidth=0.2,)\n",
    "    \n",
    "    ax.set_title(establecimiento)\n"
   ]
  },
  {
   "cell_type": "markdown",
   "metadata": {},
   "source": [
    "Ahora veamos que establecimientos están disponibles."
   ]
  },
  {
   "cell_type": "code",
   "execution_count": null,
   "metadata": {
    "scrolled": false
   },
   "outputs": [],
   "source": [
    "print(list(pd.unique(establecimientos['NOM_RBD'])))"
   ]
  },
  {
   "cell_type": "markdown",
   "metadata": {},
   "source": [
    "Empecemos a probar algunos."
   ]
  },
  {
   "cell_type": "code",
   "execution_count": null,
   "metadata": {},
   "outputs": [],
   "source": [
    "fig, ax = plt.subplots(1,2, figsize=(16,8))\n",
    "\n",
    "plot_establecimiento('LICEO JAVIERA CARRERA', ax[0])\n",
    "plot_establecimiento('COLEGIO SAINT GEORGE S COLLEGE', ax[1])\n",
    "\n",
    "ax[0].set_axis_off()\n",
    "ax[1].set_axis_off()\n",
    "\n",
    "# ax[0].set_xlim(-7.92e6, -7.83e6)\n",
    "# ax[0].set_ylim(-4e6, -3.91e6)\n",
    "# ax[1].set_xlim(-7.92e6, -7.83e6)\n",
    "# ax[1].set_ylim(-4e6, -3.91e6)\n",
    "\n",
    "plt.show()"
   ]
  },
  {
   "cell_type": "code",
   "execution_count": null,
   "metadata": {},
   "outputs": [],
   "source": [
    "fig, ax = plt.subplots(1,2, figsize=(16,8))\n",
    "\n",
    "plot_establecimiento('LICEO INSTITUTO NACIONAL', ax[0])\n",
    "plot_establecimiento('COLEGIO THE GRANGE SCHOOL', ax[1])\n",
    "\n",
    "ax[0].set_axis_off()\n",
    "ax[1].set_axis_off()\n",
    "\n",
    "plt.show()"
   ]
  },
  {
   "cell_type": "markdown",
   "metadata": {},
   "source": [
    "Este tipo de visualización tiene mucho potencial una vez que se identifiquen establecimientos interesantes. En principio se podría hacer una infografía o un póster usando *small multiples*, pero eso queda como trabajo extra."
   ]
  },
  {
   "cell_type": "markdown",
   "metadata": {},
   "source": [
    "## Parte 3: Creando un índice de pobreza por establecimiento"
   ]
  },
  {
   "cell_type": "markdown",
   "metadata": {},
   "source": [
    "Ahora que tenemos el porcentaje de estudiantes que vienen de distintas comunas, podríamos ocupar datos comunales para derivar otros indicadores. Por ejemplo, podríamos buscar datos de tasa de pobreza por comuna y ver cómo usar es para caracterizar la población de cada establecimiento educacional.\n",
    "\n",
    "Los datos de tasas de pobreza comunales pueden ser sacados de la [Encuesta Casen](http://observatorio.ministeriodesarrollosocial.gob.cl/encuesta-casen-en-pandemia-2020)."
   ]
  },
  {
   "cell_type": "code",
   "execution_count": null,
   "metadata": {},
   "outputs": [],
   "source": [
    "casen = pd.read_excel('../../../datos/casen/Estimaciones_de_Tasa_de_Pobreza_por_Ingresos_por_Comunas_2020.xlsx', skiprows=2)\n",
    "casen.head()"
   ]
  },
  {
   "cell_type": "markdown",
   "metadata": {},
   "source": [
    "Filtramos sólo los datos de la Región Metropolitana."
   ]
  },
  {
   "cell_type": "code",
   "execution_count": null,
   "metadata": {},
   "outputs": [],
   "source": [
    "casen_rm = casen[casen['Región'] == 'XIII Metropolitana de Santiago'].reset_index()\n",
    "casen_rm.head()"
   ]
  },
  {
   "cell_type": "markdown",
   "metadata": {},
   "source": [
    "Aquí la idea es tener un indicador de situación socioeconómica por establecimiento educacional. Para eso, calcularemos un promedio usando como peso el porcentaje de estudiantes de esa comuna."
   ]
  },
  {
   "cell_type": "code",
   "execution_count": null,
   "metadata": {},
   "outputs": [],
   "source": [
    "def weighted_mean(df, value='Porcentaje de personas en situación de pobreza por ingresos 2020', weight='n_percent'):\n",
    "    weighted_sum = (df[value] * df[weight]).sum()\n",
    "    return weighted_sum"
   ]
  },
  {
   "cell_type": "markdown",
   "metadata": {},
   "source": [
    "Hay que tener cuidado como se manejan los datos para poder mezclarlos y hacer operaciones en ellos."
   ]
  },
  {
   "cell_type": "code",
   "execution_count": null,
   "metadata": {},
   "outputs": [],
   "source": [
    "tasa_pobreza = (\n",
    "    pd.merge(establecimientos,\n",
    "             casen_rm.set_index('Código'),\n",
    "             left_on='COD_COM_ALU',\n",
    "             right_index=True)\n",
    "    .groupby(['RBD'])\n",
    "    .apply(weighted_mean)\n",
    "    .reset_index()\n",
    ")\n",
    "tasa_pobreza.columns = ['RBD', 'TASA_POBREZA']\n",
    "tasa_pobreza.head()"
   ]
  },
  {
   "cell_type": "markdown",
   "metadata": {},
   "source": [
    "Información adicional que nos va a servir en nuestro análisis es el tipo de subvención que tiene cada establecimiento: municipal, particular subvencionado o particular pagado. Por lo que agregamos esa columna a nuestro dataframe."
   ]
  },
  {
   "cell_type": "code",
   "execution_count": null,
   "metadata": {},
   "outputs": [],
   "source": [
    "depe = (\n",
    "    df_rm.groupby('RBD')\n",
    "        .first()\n",
    "        .reset_index()[['RBD', 'NOM_RBD', 'COD_DEPE2']]\n",
    ")\n",
    "depe.head()"
   ]
  },
  {
   "cell_type": "markdown",
   "metadata": {},
   "source": [
    "Y lo mezclamos con nuestros datos"
   ]
  },
  {
   "cell_type": "code",
   "execution_count": null,
   "metadata": {
    "scrolled": true
   },
   "outputs": [],
   "source": [
    "rbd_pobreza = tasa_pobreza.merge(depe)\n",
    "rbd_pobreza.head()"
   ]
  },
  {
   "cell_type": "markdown",
   "metadata": {},
   "source": [
    "Ahora graficamos las distribuciones de los establecimientos en base al índice de pobreza que recién calculamos. Para hacer el análisis más interesante, lo dividiremos según el tipo de subvención que reciba el establecimiento."
   ]
  },
  {
   "cell_type": "code",
   "execution_count": null,
   "metadata": {},
   "outputs": [],
   "source": [
    "labels = ['Municipal', 'Particular Subvencionado', 'Particular Pagado']\n",
    "colors = ['#377eb8', '#ff7f00', '#4daf4a']\n",
    "\n",
    "fig, ax = plt.subplots(1,2,figsize=(16,6))\n",
    "\n",
    "for depe in range(1, 4):\n",
    "    filtered = rbd_pobreza[rbd_pobreza['COD_DEPE2'] == depe]\n",
    "    filtered.hist(column='TASA_POBREZA', ax=ax[0], alpha=0.5, label=labels[depe-1], bins=100, color=colors[depe-1])\n",
    "    \n",
    "    filtered = rbd_pobreza[rbd_pobreza['COD_DEPE2'] == depe]\n",
    "    filtered['TASA_POBREZA'].plot.kde(ax=ax[1], alpha=0.5, label=labels[depe-1], color=colors[depe-1])\n",
    "    \n",
    "ax[0].legend()\n",
    "ax[1].legend()\n",
    "plt.show()"
   ]
  },
  {
   "cell_type": "markdown",
   "metadata": {},
   "source": [
    "Otra de mis visualizaciones favoritas para representar distribuciones es el `beeswarm`. Afortunadamente, `seaborn` trae una función que nos permite crearla de una forma sencilla."
   ]
  },
  {
   "cell_type": "code",
   "execution_count": null,
   "metadata": {},
   "outputs": [],
   "source": [
    "labels = ['Municipal', 'Particular Subvencionado', 'Particular Pagado']\n",
    "colors = ['#377eb8', '#ff7f00', '#4daf4a']\n",
    "\n",
    "# fig, ax = plt.subplots(3,1,figsize=(10,6), sharex=True)\n",
    "\n",
    "for depe in range(1, 4):\n",
    "    filtered = rbd_pobreza[rbd_pobreza['COD_DEPE2'] == depe]\n",
    "    sns.swarmplot(x = filtered['TASA_POBREZA']) #, ax=ax[depe-1], \n",
    "                  #alpha=0.9, label=labels[depe-1], size=2, color=colors[depe-1])\n",
    "    \n",
    "#     ax[depe-1].set_xlim(0.02,0.16)\n",
    "#     ax[depe-1].set_yticklabels([labels[depe-1]])\n",
    "#     ax[depe-1].text(0, 0, labels[depe-1], color=colors[depe-1])\n",
    "\n",
    "#     if (depe == 3):\n",
    "#         for key, spine in ax[depe-1].spines.items():\n",
    "#             spine.set_visible(False)\n",
    "#         ax[depe-1].spines['left'].set_visible(False)\n",
    "#         ax[depe-1].spines['right'].set_visible(False)\n",
    "#         ax[depe-1].xaxis.label.set_color('#525252')\n",
    "#         ax[depe-1].tick_params(axis='x', colors='#525252')\n",
    "#         ax[depe-1].set_xlabel('Tasa pobreza')\n",
    "#         ax[depe-1].set_yticks([])\n",
    "#     else:\n",
    "#         ax[depe-1].set_axis_off()\n",
    "\n",
    "# fig.suptitle('La mayoría de los colegios particulares subvencionados se enfocan en estudiantes de clase media y media-baja', x=0.005, y=0.98, ha='left')\n",
    "fig.tight_layout()\n",
    "plt.subplots_adjust(hspace=0)\n",
    "plt.show()"
   ]
  },
  {
   "cell_type": "markdown",
   "metadata": {},
   "source": [
    "Encontrar los comandos correctos para borrar `ticks`, `ticklabels` y `spines` puede tomar tiempo, así que dejo [este enlace](https://stackabuse.com/matplotlib-turn-off-axis-spines-ticklabels-axislabels-grid/) que los puede ayudar a personalizar sus gráficos. Igual que en la parte anterior, hay mucho que se le puede agregar y mejorar a esta visualización, por lo que eso también queda como ejercicio para cada uno de ustedes."
   ]
  },
  {
   "cell_type": "markdown",
   "metadata": {},
   "source": [
    "## Parte 4: Comparación índice de pobreza con resultados SIMCE"
   ]
  },
  {
   "cell_type": "markdown",
   "metadata": {},
   "source": [
    "Para poder comparar pobreza con resultados en pruebas estandarizadas, debemos cargar nuevos datos. Esta vez, los sacamos de [la base de datos del SIMCE](https://informacionestadistica.agenciaeducacion.cl/#/bases)."
   ]
  },
  {
   "cell_type": "code",
   "execution_count": null,
   "metadata": {},
   "outputs": [],
   "source": [
    "simce = pd.read_excel('../../../datos/educacion/Simce8b2019_publicas_web/Archivos XLS (XLSX)/simce8b2019_rbd.xlsx')\n",
    "simce.head()"
   ]
  },
  {
   "cell_type": "markdown",
   "metadata": {},
   "source": [
    "Y filtramos sólo los establecimientos con los cuales hemos estado trabajando hasta el momento."
   ]
  },
  {
   "cell_type": "code",
   "execution_count": null,
   "metadata": {},
   "outputs": [],
   "source": [
    "simce_rm = simce[simce['rbd'].isin(rbd_pobreza['RBD'])]\n",
    "simce_rm.head()\n"
   ]
  },
  {
   "cell_type": "markdown",
   "metadata": {},
   "source": [
    "Exploramos las columnas disponibles para saber cuáles nos servirán."
   ]
  },
  {
   "cell_type": "code",
   "execution_count": null,
   "metadata": {},
   "outputs": [],
   "source": [
    "simce_rm.columns"
   ]
  },
  {
   "cell_type": "markdown",
   "metadata": {},
   "source": [
    "Definimos las que tengan puntajes de las pruebas para usarlas después."
   ]
  },
  {
   "cell_type": "code",
   "execution_count": null,
   "metadata": {},
   "outputs": [],
   "source": [
    "pruebas_simce = ['prom_lect8b_rbd', 'prom_soc8b_rbd', 'prom_mate8b_rbd']\n",
    "simce_rm = simce_rm[['rbd'] + pruebas_simce]\n",
    "simce_rm.columns = ['RBD'] + pruebas_simce\n",
    "simce_rm.head()"
   ]
  },
  {
   "cell_type": "markdown",
   "metadata": {},
   "source": [
    "Los mezclamos con nuestro dataset"
   ]
  },
  {
   "cell_type": "code",
   "execution_count": null,
   "metadata": {},
   "outputs": [],
   "source": [
    "simce_pobreza = rbd_pobreza.merge(simce_rm)\n",
    "simce_pobreza.head()"
   ]
  },
  {
   "cell_type": "markdown",
   "metadata": {},
   "source": [
    "Y graficamos para ver que relación hay entre esas variables"
   ]
  },
  {
   "cell_type": "code",
   "execution_count": null,
   "metadata": {},
   "outputs": [],
   "source": [
    "fig, ax = plt.subplots(1,len(pruebas_simce), figsize=(14,4))\n",
    "xmin = 0.02\n",
    "xmax = 0.15\n",
    "\n",
    "\n",
    "for idx, col in enumerate(pruebas_simce):\n",
    "    simce_pobreza.plot.scatter('TASA_POBREZA', col, ax=ax[idx], alpha=0.2)\n",
    "    ax[idx].set_xlim(xmin, xmax)\n",
    "    ax[idx].set_ylim(150, 380)\n",
    "    \n",
    "plt.show()"
   ]
  },
  {
   "cell_type": "markdown",
   "metadata": {},
   "source": [
    "Ahí se ve algo interesante (y lamentablemente esperable)... ¿hay algun tipo de relación? Tratemos de ajustar un modelo lineal para ver que sale. Para eso ocuparemos el paquete `scipy`."
   ]
  },
  {
   "cell_type": "code",
   "execution_count": null,
   "metadata": {},
   "outputs": [],
   "source": [
    "import scipy as sp"
   ]
  },
  {
   "cell_type": "code",
   "execution_count": null,
   "metadata": {},
   "outputs": [],
   "source": [
    "fig, ax = plt.subplots(1,3, figsize=(14,4))\n",
    "xmin = 0.02\n",
    "xmax = 0.15\n",
    "\n",
    "for idx, col in enumerate(['prom_lect8b_rbd', 'prom_soc8b_rbd', 'prom_mate8b_rbd']):\n",
    "    simce_pobreza.plot.scatter('TASA_POBREZA', col, ax=ax[idx], alpha=0.2)\n",
    "    b, a, r, p, std = sp.stats.linregress(simce_pobreza['TASA_POBREZA'], simce_pobreza[col])\n",
    "    x = np.linspace(xmin, xmax, 100)\n",
    "    ax[idx].plot(x, a + b * x, color='#984ea3', lw=1.5)\n",
    "    ax[idx].text(0.12, 365, 'R = {:.2f}'.format(r))\n",
    "    ax[idx].set_xlim(xmin, xmax)\n",
    "    ax[idx].set_ylim(150, 380)\n",
    "    \n",
    "plt.show()"
   ]
  },
  {
   "cell_type": "markdown",
   "metadata": {},
   "source": [
    "La línea no se ve porque hay `nan` dentro del dataframe, así que nos tenemos que deshacer de ellos para que funcione."
   ]
  },
  {
   "cell_type": "code",
   "execution_count": null,
   "metadata": {},
   "outputs": [],
   "source": [
    "simce_pobreza_clean = simce_pobreza.dropna().sort_values(by='TASA_POBREZA')"
   ]
  },
  {
   "cell_type": "code",
   "execution_count": null,
   "metadata": {},
   "outputs": [],
   "source": [
    "fig, ax = plt.subplots(1,3, figsize=(14,4))\n",
    "xmin = 0.02\n",
    "xmax = 0.15\n",
    "\n",
    "for idx, col in enumerate(['prom_lect8b_rbd', 'prom_soc8b_rbd', 'prom_mate8b_rbd']):\n",
    "    simce_pobreza_clean.plot.scatter('TASA_POBREZA', col, ax=ax[idx], alpha=0.2)\n",
    "    b, a, r, p, std = sp.stats.linregress(simce_pobreza_clean['TASA_POBREZA'], simce_pobreza_clean[col])\n",
    "    x = np.linspace(xmin, xmax, 100)\n",
    "    ax[idx].plot(x, a + b * x, color='#984ea3', lw=1.5)\n",
    "    ax[idx].text(0.12, 365, 'R = {:.2f}'.format(r))\n",
    "    ax[idx].set_xlim(xmin, xmax)\n",
    "    ax[idx].set_ylim(150, 380)\n",
    "    \n",
    "plt.show()"
   ]
  },
  {
   "cell_type": "markdown",
   "metadata": {},
   "source": [
    "Ahora, sería interesante hacer este mismo gráfico pero diferenciado por tipo de subvención."
   ]
  },
  {
   "cell_type": "code",
   "execution_count": null,
   "metadata": {},
   "outputs": [],
   "source": [
    "labels = ['Municipal', 'Particular Subvencionado', 'Particular Pagado']\n",
    "pruebas_simce = ['prom_lect8b_rbd', 'prom_soc8b_rbd', 'prom_mate8b_rbd']\n",
    "\n",
    "fig, ax = plt.subplots(1, len(pruebas_simce), figsize=(14,4))\n",
    "xmin = 0.02\n",
    "xmax = 0.15\n",
    "\n",
    "for idx, col in enumerate(pruebas_simce):\n",
    "    for depe, label in enumerate(labels):\n",
    "        depe_simce = simce_pobreza_clean[simce_pobreza_clean['COD_DEPE2'] == depe + 1]\n",
    "        depe_simce.plot.scatter('TASA_POBREZA', col, ax=ax[idx], alpha=0.2, color=colors[depe])\n",
    "        \n",
    "        b, a, r, p, std = sp.stats.linregress(depe_simce['TASA_POBREZA'], depe_simce[col])\n",
    "        x = np.linspace(xmin, xmax, 100)\n",
    "        ax[idx].plot(x, a + b * x, color=colors[depe], lw=1.5)\n",
    "\n",
    "        ax[idx].set_xlim(xmin, xmax)\n",
    "        ax[idx].set_ylim(150, 380)\n",
    "\n",
    "fig.tight_layout()\n",
    "plt.show()"
   ]
  },
  {
   "cell_type": "markdown",
   "metadata": {},
   "source": [
    "Y sería mejor aún si los separamos en distintos gráficos para ver todo más claramente."
   ]
  },
  {
   "cell_type": "code",
   "execution_count": null,
   "metadata": {},
   "outputs": [],
   "source": [
    "labels = ['Municipal', 'Particular Subvencionado', 'Particular Pagado']\n",
    "pruebas_simce = ['prom_lect8b_rbd', 'prom_soc8b_rbd', 'prom_mate8b_rbd']\n",
    "\n",
    "fig, ax = plt.subplots(len(labels), len(pruebas_simce), figsize=(14,12))\n",
    "xmin = 0.02\n",
    "xmax = 0.15\n",
    "\n",
    "for depe, label in enumerate(labels):\n",
    "    for idx, col in enumerate(pruebas_simce):\n",
    "        depe_simce = simce_pobreza_clean[simce_pobreza_clean['COD_DEPE2'] == depe + 1]\n",
    "        depe_simce.plot.scatter('TASA_POBREZA', col, ax=ax[depe][idx], alpha=0.2, color=colors[depe])\n",
    "        b, a, r, p, std = sp.stats.linregress(depe_simce['TASA_POBREZA'], depe_simce[col])\n",
    "        x = np.linspace(xmin, xmax, 100)\n",
    "        ax[depe][idx].plot(x, a + b * x, color='#984ea3', lw=1.5)\n",
    "        ax[depe][idx].text(0.12, 365, 'R = {:.2f}'.format(r))\n",
    "        ax[depe][idx].set_xlim(xmin, xmax)\n",
    "        ax[depe][idx].set_ylim(150, 380)\n",
    "\n",
    "fig.tight_layout()\n",
    "plt.show()"
   ]
  },
  {
   "cell_type": "markdown",
   "metadata": {},
   "source": [
    "Recién ahora me dí cuenta de algo que no hemos considerado: el total de estudiantes por establecimiento."
   ]
  },
  {
   "cell_type": "code",
   "execution_count": null,
   "metadata": {},
   "outputs": [],
   "source": [
    "n_total = (\n",
    "    df_rm.groupby(['RBD'])\n",
    "        .agg(n_total=('COD_COM_ALU', 'count'))\n",
    "        .reset_index()\n",
    ")\n",
    "\n",
    "n_total.head()"
   ]
  },
  {
   "cell_type": "markdown",
   "metadata": {},
   "source": [
    "Y lo mezclamos con nuestro dataframe."
   ]
  },
  {
   "cell_type": "code",
   "execution_count": null,
   "metadata": {},
   "outputs": [],
   "source": [
    "simce_pobreza_total = simce_pobreza_clean.merge(n_total).dropna()\n",
    "simce_pobreza_total.head()"
   ]
  },
  {
   "cell_type": "markdown",
   "metadata": {},
   "source": [
    "Lamentablemente el método de `scipy` que ocupamos para ajustar el model lineal no acepta pesos como parámetros, por lo que tenemos que ocupar otro paquete llamado `sklearn`."
   ]
  },
  {
   "cell_type": "code",
   "execution_count": null,
   "metadata": {},
   "outputs": [],
   "source": [
    "from sklearn.linear_model import LinearRegression"
   ]
  },
  {
   "cell_type": "code",
   "execution_count": null,
   "metadata": {},
   "outputs": [],
   "source": [
    "labels = ['Municipal', 'Particular Subvencionado', 'Particular Pagado']\n",
    "pruebas_simce = ['prom_lect8b_rbd', 'prom_soc8b_rbd', 'prom_mate8b_rbd']\n",
    "\n",
    "fig, ax = plt.subplots(len(labels), len(pruebas_simce), figsize=(14,12))\n",
    "xmin = 0.02\n",
    "xmax = 0.15\n",
    "\n",
    "for depe, label in enumerate(labels):\n",
    "    for idx, col in enumerate(pruebas_simce):\n",
    "        depe_simce = simce_pobreza_total[simce_pobreza_total['COD_DEPE2'] == depe + 1]\n",
    "        depe_simce.plot.scatter('TASA_POBREZA', col, ax=ax[depe][idx], alpha=0.2, color=colors[depe])\n",
    "        \n",
    "        linreg = LinearRegression()\n",
    "        linreg.fit(depe_simce[['TASA_POBREZA']], depe_simce[[col]], depe_simce['n_total'].to_numpy())\n",
    "        r = linreg.score(depe_simce[['TASA_POBREZA']], depe_simce[[col]], depe_simce['n_total'].to_numpy())\n",
    "        x = pd.DataFrame(np.linspace(xmin, xmax, 100), columns=['TASA_POBREZA'])\n",
    "        x['prediction'] = linreg.predict(x[['TASA_POBREZA']])\n",
    "        x.plot(x='TASA_POBREZA', y='prediction', color='#984ea3', lw=1.5, ax=ax[depe][idx])\n",
    "        ax[depe][idx].text(0.12, 365, 'R = {:.2f}'.format(r))\n",
    "        ax[depe][idx].set_xlim(xmin, xmax)\n",
    "        ax[depe][idx].set_ylim(150, 380)\n",
    "\n",
    "fig.tight_layout()\n",
    "plt.show()"
   ]
  },
  {
   "cell_type": "markdown",
   "metadata": {},
   "source": [
    "Hasta acá ya tenemos todo lo necesario para armar una historia, con una narrativa clara y una intención de qué es lo que queremos comunicar. Ahora hay que pasar harto tiempo mejorando los gráficos para que se ven mejor."
   ]
  }
 ],
 "metadata": {
  "kernelspec": {
   "display_name": "Python 3",
   "language": "python",
   "name": "python3"
  },
  "language_info": {
   "codemirror_mode": {
    "name": "ipython",
    "version": 3
   },
   "file_extension": ".py",
   "mimetype": "text/x-python",
   "name": "python",
   "nbconvert_exporter": "python",
   "pygments_lexer": "ipython3",
   "version": "3.8.10"
  }
 },
 "nbformat": 4,
 "nbformat_minor": 4
}
